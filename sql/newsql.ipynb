{
 "cells": [
  {
   "cell_type": "code",
   "execution_count": 1,
   "metadata": {},
   "outputs": [
    {
     "name": "stdout",
     "output_type": "stream",
     "text": [
      "Requirement already satisfied: pandas in c:\\users\\abina\\onedrive\\desktop\\visualcode\\redbusscraping\\env\\lib\\site-packages (2.2.3)Note: you may need to restart the kernel to use updated packages.\n",
      "\n",
      "Requirement already satisfied: numpy>=1.26.0 in c:\\users\\abina\\onedrive\\desktop\\visualcode\\redbusscraping\\env\\lib\\site-packages (from pandas) (2.1.3)\n",
      "Requirement already satisfied: python-dateutil>=2.8.2 in c:\\users\\abina\\onedrive\\desktop\\visualcode\\redbusscraping\\env\\lib\\site-packages (from pandas) (2.9.0.post0)\n",
      "Requirement already satisfied: pytz>=2020.1 in c:\\users\\abina\\onedrive\\desktop\\visualcode\\redbusscraping\\env\\lib\\site-packages (from pandas) (2024.2)\n",
      "Requirement already satisfied: tzdata>=2022.7 in c:\\users\\abina\\onedrive\\desktop\\visualcode\\redbusscraping\\env\\lib\\site-packages (from pandas) (2024.2)\n",
      "Requirement already satisfied: six>=1.5 in c:\\users\\abina\\onedrive\\desktop\\visualcode\\redbusscraping\\env\\lib\\site-packages (from python-dateutil>=2.8.2->pandas) (1.16.0)\n"
     ]
    }
   ],
   "source": [
    "%pip install pandas"
   ]
  },
  {
   "cell_type": "code",
   "execution_count": 20,
   "metadata": {},
   "outputs": [
    {
     "name": "stdout",
     "output_type": "stream",
     "text": [
      "Combined CSV saved to C:\\Users\\abina\\OneDrive\\Desktop\\visualcode\\redbusScraping\\combined_data.csv\n"
     ]
    }
   ],
   "source": [
    "import os\n",
    "import pandas as pd\n",
    "\n",
    "# Path to the folder containing CSV files\n",
    "folder_path = r\"C:\\Users\\abina\\OneDrive\\Desktop\\visualcode\\redbusScraping\\exportedcsvfiles\"\n",
    "\n",
    "# List to store individual DataFrames\n",
    "dataframes = []\n",
    "\n",
    "# Iterate through all files in the folder\n",
    "for file_name in os.listdir(folder_path):\n",
    "    # Check if the file is a CSV file\n",
    "    if file_name.endswith(\".csv\"):\n",
    "        # Read the CSV file\n",
    "        file_path = os.path.join(folder_path, file_name)\n",
    "        df = pd.read_csv(file_path)\n",
    "        # Append the DataFrame to the list\n",
    "        dataframes.append(df)\n",
    "\n",
    "# Concatenate all DataFrames into a single DataFrame\n",
    "combined_df = pd.concat(dataframes, ignore_index=True)\n",
    "\n",
    "# Save the combined DataFrame to a new CSV file\n",
    "output_file = r\"C:\\Users\\abina\\OneDrive\\Desktop\\visualcode\\redbusScraping\\combined_data.csv\"\n",
    "combined_df.to_csv(output_file, index=False)\n",
    "\n",
    "print(f\"Combined CSV saved to {output_file}\")"
   ]
  },
  {
   "cell_type": "code",
   "execution_count": 22,
   "metadata": {},
   "outputs": [],
   "source": [
    "df = pd.read_csv(\"combined_data.csv\")"
   ]
  },
  {
   "cell_type": "code",
   "execution_count": 23,
   "metadata": {},
   "outputs": [],
   "source": [
    "import pandas as pd\n",
    "#add id column\n",
    "id_column = pd.Series(range(1, len(df) + 1), name='id')\n",
    "df = pd.concat([id_column, df], axis=1)\n",
    "df = pd.read_csv(\"combined_data.csv\")\n",
    "\n"
   ]
  },
  {
   "cell_type": "code",
   "execution_count": 25,
   "metadata": {},
   "outputs": [
    {
     "data": {
      "text/plain": [
       "Route_Name            0\n",
       "Route_Link            0\n",
       "Bus_Name             89\n",
       "Bus_Type             89\n",
       "Departing_Time       89\n",
       "Duration             89\n",
       "Reaching_Time        89\n",
       "Star_Rating          88\n",
       "Price                89\n",
       "Seat_Availability    89\n",
       "dtype: int64"
      ]
     },
     "execution_count": 25,
     "metadata": {},
     "output_type": "execute_result"
    }
   ],
   "source": [
    "df.isnull().sum()"
   ]
  },
  {
   "cell_type": "code",
   "execution_count": 26,
   "metadata": {},
   "outputs": [],
   "source": [
    "df1=df.dropna()"
   ]
  },
  {
   "cell_type": "code",
   "execution_count": 27,
   "metadata": {},
   "outputs": [
    {
     "name": "stderr",
     "output_type": "stream",
     "text": [
      "<>:5: SyntaxWarning: invalid escape sequence '\\d'\n",
      "<>:5: SyntaxWarning: invalid escape sequence '\\d'\n",
      "C:\\Users\\abina\\AppData\\Local\\Temp\\ipykernel_2872\\3502610099.py:5: SyntaxWarning: invalid escape sequence '\\d'\n",
      "  df1['Seat_Availability'] = df1['Seat_Availability'].str.extract('(\\d+)')\n",
      "C:\\Users\\abina\\AppData\\Local\\Temp\\ipykernel_2872\\3502610099.py:2: SettingWithCopyWarning: \n",
      "A value is trying to be set on a copy of a slice from a DataFrame.\n",
      "Try using .loc[row_indexer,col_indexer] = value instead\n",
      "\n",
      "See the caveats in the documentation: https://pandas.pydata.org/pandas-docs/stable/user_guide/indexing.html#returning-a-view-versus-a-copy\n",
      "  df1['Price'] = df1['Price'].str.replace('INR ', '')\n",
      "C:\\Users\\abina\\AppData\\Local\\Temp\\ipykernel_2872\\3502610099.py:5: SettingWithCopyWarning: \n",
      "A value is trying to be set on a copy of a slice from a DataFrame.\n",
      "Try using .loc[row_indexer,col_indexer] = value instead\n",
      "\n",
      "See the caveats in the documentation: https://pandas.pydata.org/pandas-docs/stable/user_guide/indexing.html#returning-a-view-versus-a-copy\n",
      "  df1['Seat_Availability'] = df1['Seat_Availability'].str.extract('(\\d+)')\n"
     ]
    }
   ],
   "source": [
    "# replace string to empty string\n",
    "df1['Price'] = df1['Price'].str.replace('INR ', '')\n",
    "\n",
    "#extract the digits(0-9)\n",
    "df1['Seat_Availability'] = df1['Seat_Availability'].str.extract('(\\d+)')"
   ]
  },
  {
   "cell_type": "code",
   "execution_count": 28,
   "metadata": {},
   "outputs": [
    {
     "data": {
      "text/plain": [
       "Route_Name            object\n",
       "Route_Link            object\n",
       "Bus_Name              object\n",
       "Bus_Type              object\n",
       "Departing_Time        object\n",
       "Duration              object\n",
       "Reaching_Time         object\n",
       "Star_Rating          float64\n",
       "Price                 object\n",
       "Seat_Availability     object\n",
       "dtype: object"
      ]
     },
     "execution_count": 28,
     "metadata": {},
     "output_type": "execute_result"
    }
   ],
   "source": [
    "df1.dtypes"
   ]
  },
  {
   "cell_type": "code",
   "execution_count": 29,
   "metadata": {},
   "outputs": [
    {
     "name": "stderr",
     "output_type": "stream",
     "text": [
      "C:\\Users\\abina\\AppData\\Local\\Temp\\ipykernel_2872\\2312006269.py:1: SettingWithCopyWarning: \n",
      "A value is trying to be set on a copy of a slice from a DataFrame.\n",
      "Try using .loc[row_indexer,col_indexer] = value instead\n",
      "\n",
      "See the caveats in the documentation: https://pandas.pydata.org/pandas-docs/stable/user_guide/indexing.html#returning-a-view-versus-a-copy\n",
      "  df1['Seat_Availability']=df1['Seat_Availability'].astype('int')\n",
      "C:\\Users\\abina\\AppData\\Local\\Temp\\ipykernel_2872\\2312006269.py:2: SettingWithCopyWarning: \n",
      "A value is trying to be set on a copy of a slice from a DataFrame.\n",
      "Try using .loc[row_indexer,col_indexer] = value instead\n",
      "\n",
      "See the caveats in the documentation: https://pandas.pydata.org/pandas-docs/stable/user_guide/indexing.html#returning-a-view-versus-a-copy\n",
      "  df1['Price']=df1['Price'].astype('float')\n"
     ]
    }
   ],
   "source": [
    "df1['Seat_Availability']=df1['Seat_Availability'].astype('int')\n",
    "df1['Price']=df1['Price'].astype('float')"
   ]
  },
  {
   "cell_type": "code",
   "execution_count": 30,
   "metadata": {},
   "outputs": [
    {
     "data": {
      "text/plain": [
       "Route_Name            object\n",
       "Route_Link            object\n",
       "Bus_Name              object\n",
       "Bus_Type              object\n",
       "Departing_Time        object\n",
       "Duration              object\n",
       "Reaching_Time         object\n",
       "Star_Rating          float64\n",
       "Price                float64\n",
       "Seat_Availability      int64\n",
       "dtype: object"
      ]
     },
     "execution_count": 30,
     "metadata": {},
     "output_type": "execute_result"
    }
   ],
   "source": [
    "df1.dtypes"
   ]
  },
  {
   "cell_type": "code",
   "execution_count": 34,
   "metadata": {},
   "outputs": [],
   "source": [
    "#python mysql connection\n",
    "import pymysql\n",
    "myconnection = pymysql.connect(host='localhost', user='root',passwd='Password@123',port=3307)"
   ]
  },
  {
   "cell_type": "code",
   "execution_count": 35,
   "metadata": {},
   "outputs": [
    {
     "data": {
      "text/plain": [
       "1"
      ]
     },
     "execution_count": 35,
     "metadata": {},
     "output_type": "execute_result"
    }
   ],
   "source": [
    "# Create a database\n",
    "mycursor = myconnection.cursor()\n",
    "mycursor.execute('CREATE DATABASE IF NOT EXISTS redbus')"
   ]
  },
  {
   "cell_type": "code",
   "execution_count": null,
   "metadata": {},
   "outputs": [],
   "source": [
    "# Create a table\n",
    "mycursor = myconnection.cursor()\n"
   ]
  },
  {
   "cell_type": "code",
   "execution_count": 37,
   "metadata": {},
   "outputs": [
    {
     "data": {
      "text/plain": [
       "0"
      ]
     },
     "execution_count": 37,
     "metadata": {},
     "output_type": "execute_result"
    }
   ],
   "source": [
    "df = pd.read_csv(\"combined_data.csv\")\n",
    "a = \",\".join(f\"{i} {j}\"\n",
    "for i,j in zip(df.columns,df.dtypes)).replace(\"float64\",\"float\").replace(\"object\",\"text\").replace(\"int64\",\"int\") #replace dtypes from pandas to mysql\n",
    "table_name = \"bus_routes\"\n",
    "myconnection.cursor().execute(f\"create table redbus.{table_name} ({a})\")"
   ]
  },
  {
   "cell_type": "code",
   "execution_count": 40,
   "metadata": {},
   "outputs": [],
   "source": [
    "for i,row in df1.iterrows():\n",
    "    data=tuple([row['Route_Name'],row['Route_Link'],row['Bus_Name'],row['Bus_Type'],row['Departing_Time'],row['Duration'],row['Reaching_Time'],row['Star_Rating'],row['Price'],row['Seat_Availability']])\n",
    "    myconnection.cursor().execute(f\"insert into redbus.{table_name} values {data}\")\n",
    "    myconnection.commit()"
   ]
  }
 ],
 "metadata": {
  "kernelspec": {
   "display_name": "env",
   "language": "python",
   "name": "python3"
  },
  "language_info": {
   "codemirror_mode": {
    "name": "ipython",
    "version": 3
   },
   "file_extension": ".py",
   "mimetype": "text/x-python",
   "name": "python",
   "nbconvert_exporter": "python",
   "pygments_lexer": "ipython3",
   "version": "3.13.0"
  }
 },
 "nbformat": 4,
 "nbformat_minor": 2
}
